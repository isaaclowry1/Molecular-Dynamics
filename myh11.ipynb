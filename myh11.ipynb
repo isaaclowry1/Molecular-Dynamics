{
 "cells": [
  {
   "cell_type": "code",
   "execution_count": 1,
   "id": "7e9e7089",
   "metadata": {
    "scrolled": true
   },
   "outputs": [
    {
     "name": "stdout",
     "output_type": "stream",
     "text": [
      "<Universe with 3341 atoms>\n",
      "Using MDAnalysis version 2.9.0\n"
     ]
    }
   ],
   "source": [
    "import MDAnalysis as mda\n",
    "from MDAnalysis.tests.datafiles import PSF, DCD, GRO, XTC\n",
    "\n",
    "import warnings\n",
    "# suppress some MDAnalysis warnings about PSF files\n",
    "warnings.filterwarnings('ignore')\n",
    "\n",
    "from matplotlib import pyplot as plt\n",
    "\n",
    "import pandas as pd\n",
    "\n",
    "print(mda.Universe(PSF, DCD))\n",
    "print(\"Using MDAnalysis version\", mda.__version__)\n",
    "\n",
    "%matplotlib inline\n"
   ]
  },
  {
   "cell_type": "code",
   "execution_count": 18,
   "id": "8fb41c73-d64c-4fd9-9933-b8ec08497089",
   "metadata": {},
   "outputs": [
    {
     "name": "stdout",
     "output_type": "stream",
     "text": [
      "Aligned and saved: wt-atp_aligned.pdb\n",
      "Aligned and saved: r108w_aligned.pdb\n",
      "Aligned and saved: r108w_atp_aligned.pdb\n"
     ]
    },
    {
     "data": {
      "application/vnd.jupyter.widget-view+json": {
       "model_id": "9c7c575ee2f14b62a91766d7802969f9",
       "version_major": 2,
       "version_minor": 0
      },
      "text/plain": [
       "NGLWidget()"
      ]
     },
     "metadata": {},
     "output_type": "display_data"
    }
   ],
   "source": [
    "import MDAnalysis as mda\n",
    "import os.path as path\n",
    "import nglview as nv\n",
    "from MDAnalysis.analysis import align\n",
    "from typing import Optional\n",
    "\n",
    "# Utility functions\n",
    "def get_filepath(filepath: str) -> str:\n",
    "    return path.join(os.getcwd(), filepath)\n",
    "\n",
    "def create_universe(filepath: str) -> mda.Universe:\n",
    "    full_path = get_filepath(filepath)\n",
    "    return mda.Universe(full_path)\n",
    "\n",
    "def select_residues_backbone(universe: mda.Universe, resid_range: str = '85-783') -> mda.AtomGroup:\n",
    "    selection_query = f'resid {resid_range} and backbone'\n",
    "    return universe.select_atoms(selection_query)\n",
    "\n",
    "def align_and_save(mobile_universe: mda.Universe, reference_universe: mda.Universe,\n",
    "                   selection_query: str, output_filename: str) -> None:\n",
    "    align.alignto(mobile_universe, reference_universe, select=selection_query, match_atoms=True)\n",
    "    mobile_universe.atoms.write(output_filename)\n",
    "\n",
    "def view_molecule(atom_group: mda.AtomGroup, representation: Optional[str] = 'cartoon') -> nv.NGLWidget:\n",
    "    view = nv.show_mdanalysis(atom_group)\n",
    "    view.clear_representations()\n",
    "    view.add_representation(representation)\n",
    "    return view\n",
    "\n",
    "\n",
    "if __name__ == \"__main__\":\n",
    "    pdb_files = [\n",
    "        \"myh11/wt/wt_myh11.pdb\",\n",
    "        \"myh11/wt-atp/wt-atp.pdb\",\n",
    "        \"myh11/r108w/r108w.pdb\",\n",
    "        \"myh11/r108w-atp/r108w_atp.pdb\"\n",
    "    ]\n",
    "\n",
    "    reference_universe = create_universe(pdb_files[0])\n",
    "    reference_atoms = select_residues_backbone(reference_universe)\n",
    "\n",
    "    selection_query = 'resid 85-783 and backbone'\n",
    "\n",
    "    aligned_atomgroups = [reference_atoms]\n",
    "\n",
    "    for pdb_file in pdb_files[1:]:\n",
    "        mobile_universe = create_universe(pdb_file)\n",
    "        output_filename = path.basename(pdb_file).replace('.pdb', '_aligned.pdb')\n",
    "\n",
    "        align_and_save(mobile_universe, reference_universe, selection_query, output_filename)\n",
    "\n",
    "        aligned_universe = create_universe(output_filename)\n",
    "        aligned_atoms = select_residues_backbone(aligned_universe)\n",
    "\n",
    "        aligned_atomgroups.append(aligned_atoms)\n",
    "\n",
    "        print(f\"Aligned and saved: {output_filename}\")\n",
    "\n",
    "    merged = mda.Merge(*aligned_atomgroups)\n",
    "\n",
    "    merged_view = view_molecule(merged)\n",
    "    display(merged_view)\n",
    "\n"
   ]
  },
  {
   "cell_type": "code",
   "execution_count": 16,
   "id": "89f6155c",
   "metadata": {},
   "outputs": [
    {
     "name": "stdout",
     "output_type": "stream",
     "text": [
      "/Users/isaaclowry/md\n"
     ]
    }
   ],
   "source": [
    "\n",
    "\n",
    "# import os.path as path\n",
    "# import os\n",
    "# import nglview as nv\n",
    "# from MDAnalysis.analysis import *\n",
    "\n",
    "# print(os.getcwd())\n",
    "\n",
    "\n",
    "# wt_pdb_no_atp = path.join(os.getcwd(), \"myh11/wt/wt_myh11.pdb\")\n",
    "# wt_pdb_atp_bound = path.join(os.getcwd(), \"myh11/wt-atp/wt-atp.pdb\")\n",
    "# #print(wt_pdb)\n",
    "# wt_no_atp = mda.Universe(wt_pdb_no_atp)\n",
    "# wt_atp_bound = mda.Universe(wt_pdb_atp_bound)\n",
    "\n",
    "# #print(u)\n",
    "# #print(u.residues)\n",
    "\n",
    "# wt_no_atp_residues_85_783 = wt_no_atp.select_atoms('resid 85-783 and backbone')\n",
    "# wt_atp_bound_residues_85_783 = wt_atp_bound.select_atoms('resid 85-783 and backbone')\n",
    "\n",
    "\n",
    "#print(residues_85_783.atoms.names[:4])\n",
    "\n",
    "#print(residues_85_783.groupby(['resnames', 'names']))\n",
    "\n",
    "\n",
    "#merged = mda.Merge(wt_no_atp_residues_85_783, wt_atp_bound_residues_85_783)\n",
    "\n",
    "#merged_view = nv.show_mdanalysis(merged)\n",
    "\n",
    "#merged_view\n",
    "\n",
    "\n",
    "\n"
   ]
  },
  {
   "cell_type": "code",
   "execution_count": 15,
   "id": "68196607-9d1a-4e38-b065-637113222aea",
   "metadata": {},
   "outputs": [
    {
     "name": "stdout",
     "output_type": "stream",
     "text": [
      "(np.float64(1.1544567758763513), 1.1544567758752649)\n"
     ]
    },
    {
     "data": {
      "application/vnd.jupyter.widget-view+json": {
       "model_id": "638a0b6080224da1887e91fcac2aef43",
       "version_major": 2,
       "version_minor": 0
      },
      "text/plain": [
       "NGLWidget()"
      ]
     },
     "metadata": {},
     "output_type": "display_data"
    }
   ],
   "source": [
    "# from MDAnalysis.analysis import *\n",
    "# rmsds = align.alignto(wt_atp_bound,  # mobile\n",
    "#                       wt_no_atp,  # reference\n",
    "#                       select='resid 85-783 and backbone', # selection to operate on\n",
    "#                       match_atoms=True) # whether to match atoms\\\n",
    "\n",
    "# wt_atp_bound.atoms.write('wt_atp_bound_aligned.pdb')\n",
    "\n",
    "\n",
    "\n",
    "# print(rmsds)\n",
    "\n",
    "# aligned = mda.Universe('wt_atp_bound_aligned.pdb')\n",
    "\n",
    "# aligned_85_783 = aligned.select_atoms('resid 85-783 and backbone')\n",
    "\n",
    "# merged = mda.Merge(wt_no_atp_residues_85_783, aligned_85_783)\n",
    "\n",
    "# aligned_view = nv.show_mdanalysis(merged)\n",
    "\n",
    "# aligned_view\n",
    "\n",
    "\n"
   ]
  },
  {
   "cell_type": "code",
   "execution_count": null,
   "id": "ae3d1ad3",
   "metadata": {},
   "outputs": [],
   "source": []
  },
  {
   "cell_type": "code",
   "execution_count": null,
   "id": "17683c84",
   "metadata": {},
   "outputs": [],
   "source": []
  }
 ],
 "metadata": {
  "kernelspec": {
   "display_name": "md_analysis",
   "language": "python",
   "name": "md_analysis"
  },
  "language_info": {
   "codemirror_mode": {
    "name": "ipython",
    "version": 3
   },
   "file_extension": ".py",
   "mimetype": "text/x-python",
   "name": "python",
   "nbconvert_exporter": "python",
   "pygments_lexer": "ipython3",
   "version": "3.13.3"
  }
 },
 "nbformat": 4,
 "nbformat_minor": 5
}
