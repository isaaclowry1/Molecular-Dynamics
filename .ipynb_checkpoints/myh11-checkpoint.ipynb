{
 "cells": [
  {
   "cell_type": "code",
   "execution_count": 1,
   "id": "7e9e7089",
   "metadata": {
    "scrolled": true
   },
   "outputs": [
    {
     "name": "stdout",
     "output_type": "stream",
     "text": [
      "<Universe with 3341 atoms>\n",
      "Using MDAnalysis version 2.9.0\n"
     ]
    }
   ],
   "source": [
    "import MDAnalysis as mda\n",
    "from MDAnalysis.tests.datafiles import PSF, DCD, GRO, XTC\n",
    "\n",
    "import warnings\n",
    "# suppress some MDAnalysis warnings about PSF files\n",
    "warnings.filterwarnings('ignore')\n",
    "\n",
    "from matplotlib import pyplot as plt\n",
    "\n",
    "import pandas as pd\n",
    "\n",
    "print(mda.Universe(PSF, DCD))\n",
    "print(\"Using MDAnalysis version\", mda.__version__)\n",
    "\n",
    "%matplotlib inline\n"
   ]
  },
  {
   "cell_type": "code",
   "execution_count": 2,
   "id": "89f6155c",
   "metadata": {},
   "outputs": [
    {
     "data": {
      "application/vnd.jupyter.widget-view+json": {
       "model_id": "38174cab5a3941a8899b9948fc416a59",
       "version_major": 2,
       "version_minor": 0
      },
      "text/plain": []
     },
     "metadata": {},
     "output_type": "display_data"
    },
    {
     "name": "stdout",
     "output_type": "stream",
     "text": [
      "/Users/isaaclowry/md\n"
     ]
    },
    {
     "data": {
      "application/vnd.jupyter.widget-view+json": {
       "model_id": "347dc468b51b47a483848436ca63502c",
       "version_major": 2,
       "version_minor": 0
      },
      "text/plain": [
       "NGLWidget()"
      ]
     },
     "metadata": {},
     "output_type": "display_data"
    }
   ],
   "source": [
    "\n",
    "\n",
    "import os.path as path\n",
    "import os\n",
    "import nglview as nv\n",
    "\n",
    "print(os.getcwd())\n",
    "\n",
    "\n",
    "wt_pdb_no_atp = path.join(os.getcwd(), \"myh11/wt/wt_myh11.pdb\")\n",
    "wt_pdb_atp_bound = path.join(os.getcwd(), \"myh11/wt-atp/wt-atp.pdb\")\n",
    "#print(wt_pdb)\n",
    "wt_no_atp = mda.Universe(wt_pdb_no_atp)\n",
    "wt_atp_bound = mda.Universe(wt_pdb_atp_bound)\n",
    "\n",
    "#print(u)\n",
    "#print(u.residues)\n",
    "\n",
    "wt_no_atp_residues_85_783 = wt_no_atp.select_atoms('resid 85-783 and backbone')\n",
    "wt_atp_bound_residues_85_783 = wt_atp_bound.select_atoms('resid 85-783 and backbone')\n",
    "\n",
    "\n",
    "#print(residues_85_783.atoms.names[:4])\n",
    "\n",
    "#print(residues_85_783.groupby(['resnames', 'names']))\n",
    "\n",
    "\n",
    "#merged = mda.Merge(wt_no_atp_residues_85_783, wt_atp_bound_residues_85_783)\n",
    "\n",
    "#merged_view = nv.show_mdanalysis(merged)\n",
    "\n",
    "#merged_view\n",
    "\n",
    "\n",
    "\n"
   ]
  },
  {
   "cell_type": "code",
   "execution_count": 15,
   "id": "68196607-9d1a-4e38-b065-637113222aea",
   "metadata": {},
   "outputs": [
    {
     "name": "stdout",
     "output_type": "stream",
     "text": [
      "(np.float64(1.1544567758763513), 1.1544567758752649)\n"
     ]
    },
    {
     "data": {
      "application/vnd.jupyter.widget-view+json": {
       "model_id": "638a0b6080224da1887e91fcac2aef43",
       "version_major": 2,
       "version_minor": 0
      },
      "text/plain": [
       "NGLWidget()"
      ]
     },
     "metadata": {},
     "output_type": "display_data"
    }
   ],
   "source": [
    "from MDAnalysis.analysis import *\n",
    "rmsds = align.alignto(wt_atp_bound,  # mobile\n",
    "                      wt_no_atp,  # reference\n",
    "                      select='resid 85-783 and backbone', # selection to operate on\n",
    "                      match_atoms=True) # whether to match atoms\\\n",
    "\n",
    "wt_atp_bound.atoms.write('wt_atp_bound_aligned.pdb')\n",
    "\n",
    "\n",
    "\n",
    "print(rmsds)\n",
    "\n",
    "aligned = mda.Universe('wt_atp_bound_aligned.pdb')\n",
    "\n",
    "aligned_85_783 = aligned.select_atoms('resid 85-783 and backbone')\n",
    "\n",
    "merged = mda.Merge(wt_no_atp_residues_85_783, aligned_85_783)\n",
    "\n",
    "aligned_view = nv.show_mdanalysis(merged)\n",
    "\n",
    "aligned_view\n",
    "\n",
    "\n"
   ]
  },
  {
   "cell_type": "code",
   "execution_count": null,
   "id": "ae3d1ad3",
   "metadata": {},
   "outputs": [],
   "source": []
  },
  {
   "cell_type": "code",
   "execution_count": null,
   "id": "17683c84",
   "metadata": {},
   "outputs": [],
   "source": []
  }
 ],
 "metadata": {
  "kernelspec": {
   "display_name": "md_analysis",
   "language": "python",
   "name": "md_analysis"
  },
  "language_info": {
   "codemirror_mode": {
    "name": "ipython",
    "version": 3
   },
   "file_extension": ".py",
   "mimetype": "text/x-python",
   "name": "python",
   "nbconvert_exporter": "python",
   "pygments_lexer": "ipython3",
   "version": "3.13.3"
  }
 },
 "nbformat": 4,
 "nbformat_minor": 5
}
